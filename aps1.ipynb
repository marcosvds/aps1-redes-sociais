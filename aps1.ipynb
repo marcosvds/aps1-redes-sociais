{
 "cells": [
  {
   "cell_type": "markdown",
   "id": "bfa5aa97-c10e-46d7-832f-9f44c311a1d4",
   "metadata": {
    "execution": {
     "iopub.execute_input": "2023-08-27T20:43:03.557050Z",
     "iopub.status.busy": "2023-08-27T20:43:03.549426Z",
     "iopub.status.idle": "2023-08-27T20:43:03.612417Z",
     "shell.execute_reply": "2023-08-27T20:43:03.606436Z",
     "shell.execute_reply.started": "2023-08-27T20:43:03.556679Z"
    }
   },
   "source": [
    "# Atividade Prática Supervisionada (APS1)\n",
    "\n",
    "João Valentim, Luiz Felipe e Marcos Vinícius"
   ]
  },
  {
   "cell_type": "markdown",
   "id": "f1a33360-723d-421e-86d5-c6fa44406292",
   "metadata": {
    "execution": {
     "iopub.execute_input": "2023-08-27T20:45:03.364104Z",
     "iopub.status.busy": "2023-08-27T20:45:03.358938Z",
     "iopub.status.idle": "2023-08-27T20:45:03.418785Z",
     "shell.execute_reply": "2023-08-27T20:45:03.404523Z",
     "shell.execute_reply.started": "2023-08-27T20:45:03.363883Z"
    }
   },
   "source": [
    "## Dataset escolhido\n",
    "- [Sobre o material](https://snap.stanford.edu/data/act-mooc.html)\n",
    "- [⬇⬇ link para download do dataset ⬇⬇](https://snap.stanford.edu/data/act-mooc.tar.gz)\n",
    "- [O que é MOOC](https://pt.wikipedia.org/wiki/MOOC)"
   ]
  },
  {
   "cell_type": "markdown",
   "id": "3d118313-92be-48ff-9a6a-0e3f2345e547",
   "metadata": {},
   "source": [
    "## Importações e leitura do dataset"
   ]
  },
  {
   "cell_type": "code",
   "execution_count": 1,
   "id": "2c03884d-d187-4263-8630-72164dd15789",
   "metadata": {
    "execution": {
     "iopub.execute_input": "2023-08-27T20:53:08.086254Z",
     "iopub.status.busy": "2023-08-27T20:53:08.079090Z",
     "iopub.status.idle": "2023-08-27T20:53:16.676480Z",
     "shell.execute_reply": "2023-08-27T20:53:16.672403Z",
     "shell.execute_reply.started": "2023-08-27T20:53:08.086092Z"
    }
   },
   "outputs": [
    {
     "data": {
      "text/html": [
       "\n",
       "    <script src=\"/static/.hidden/netpixi.min.js\"></script>\n"
      ],
      "text/plain": [
       "<IPython.core.display.HTML object>"
      ]
     },
     "metadata": {},
     "output_type": "display_data"
    }
   ],
   "source": [
    "import pandas as pd\n",
    "import numpy as np\n",
    "import graph_tool_extras as gte\n",
    "\n",
    "import netpixi\n",
    "from graph_tool import draw"
   ]
  },
  {
   "cell_type": "code",
   "execution_count": 2,
   "id": "1110278d-6bac-429f-9f43-be729bf222ef",
   "metadata": {
    "execution": {
     "iopub.execute_input": "2023-08-27T20:53:21.740173Z",
     "iopub.status.busy": "2023-08-27T20:53:21.733315Z",
     "iopub.status.idle": "2023-08-27T20:53:22.543521Z",
     "shell.execute_reply": "2023-08-27T20:53:22.538911Z",
     "shell.execute_reply.started": "2023-08-27T20:53:21.739934Z"
    }
   },
   "outputs": [],
   "source": [
    "df = pd.read_csv('mooc_actions.tsv', sep='\\t')"
   ]
  },
  {
   "cell_type": "code",
   "execution_count": 3,
   "id": "f23f3cac-6a8c-48de-8d23-c170c045bf31",
   "metadata": {
    "execution": {
     "iopub.execute_input": "2023-08-27T20:53:25.053960Z",
     "iopub.status.busy": "2023-08-27T20:53:25.047897Z",
     "iopub.status.idle": "2023-08-27T20:53:25.205654Z",
     "shell.execute_reply": "2023-08-27T20:53:25.201633Z",
     "shell.execute_reply.started": "2023-08-27T20:53:25.053755Z"
    }
   },
   "outputs": [
    {
     "data": {
      "text/html": [
       "<div>\n",
       "<style scoped>\n",
       "    .dataframe tbody tr th:only-of-type {\n",
       "        vertical-align: middle;\n",
       "    }\n",
       "\n",
       "    .dataframe tbody tr th {\n",
       "        vertical-align: top;\n",
       "    }\n",
       "\n",
       "    .dataframe thead th {\n",
       "        text-align: right;\n",
       "    }\n",
       "</style>\n",
       "<table border=\"1\" class=\"dataframe\">\n",
       "  <thead>\n",
       "    <tr style=\"text-align: right;\">\n",
       "      <th></th>\n",
       "      <th>ACTIONID</th>\n",
       "      <th>USERID</th>\n",
       "      <th>TARGETID</th>\n",
       "      <th>TIMESTAMP</th>\n",
       "    </tr>\n",
       "  </thead>\n",
       "  <tbody>\n",
       "    <tr>\n",
       "      <th>0</th>\n",
       "      <td>0</td>\n",
       "      <td>0</td>\n",
       "      <td>0</td>\n",
       "      <td>0.0</td>\n",
       "    </tr>\n",
       "    <tr>\n",
       "      <th>1</th>\n",
       "      <td>1</td>\n",
       "      <td>0</td>\n",
       "      <td>1</td>\n",
       "      <td>6.0</td>\n",
       "    </tr>\n",
       "    <tr>\n",
       "      <th>2</th>\n",
       "      <td>2</td>\n",
       "      <td>0</td>\n",
       "      <td>2</td>\n",
       "      <td>41.0</td>\n",
       "    </tr>\n",
       "    <tr>\n",
       "      <th>3</th>\n",
       "      <td>3</td>\n",
       "      <td>0</td>\n",
       "      <td>1</td>\n",
       "      <td>49.0</td>\n",
       "    </tr>\n",
       "    <tr>\n",
       "      <th>4</th>\n",
       "      <td>4</td>\n",
       "      <td>0</td>\n",
       "      <td>2</td>\n",
       "      <td>51.0</td>\n",
       "    </tr>\n",
       "    <tr>\n",
       "      <th>...</th>\n",
       "      <td>...</td>\n",
       "      <td>...</td>\n",
       "      <td>...</td>\n",
       "      <td>...</td>\n",
       "    </tr>\n",
       "    <tr>\n",
       "      <th>411744</th>\n",
       "      <td>411744</td>\n",
       "      <td>7026</td>\n",
       "      <td>8</td>\n",
       "      <td>2572041.0</td>\n",
       "    </tr>\n",
       "    <tr>\n",
       "      <th>411745</th>\n",
       "      <td>411745</td>\n",
       "      <td>6842</td>\n",
       "      <td>8</td>\n",
       "      <td>2572043.0</td>\n",
       "    </tr>\n",
       "    <tr>\n",
       "      <th>411746</th>\n",
       "      <td>411746</td>\n",
       "      <td>7026</td>\n",
       "      <td>9</td>\n",
       "      <td>2572048.0</td>\n",
       "    </tr>\n",
       "    <tr>\n",
       "      <th>411747</th>\n",
       "      <td>411747</td>\n",
       "      <td>6842</td>\n",
       "      <td>5</td>\n",
       "      <td>2572054.0</td>\n",
       "    </tr>\n",
       "    <tr>\n",
       "      <th>411748</th>\n",
       "      <td>411748</td>\n",
       "      <td>70</td>\n",
       "      <td>23</td>\n",
       "      <td>2572086.0</td>\n",
       "    </tr>\n",
       "  </tbody>\n",
       "</table>\n",
       "<p>411749 rows × 4 columns</p>\n",
       "</div>"
      ],
      "text/plain": [
       "        ACTIONID  USERID  TARGETID  TIMESTAMP\n",
       "0              0       0         0        0.0\n",
       "1              1       0         1        6.0\n",
       "2              2       0         2       41.0\n",
       "3              3       0         1       49.0\n",
       "4              4       0         2       51.0\n",
       "...          ...     ...       ...        ...\n",
       "411744    411744    7026         8  2572041.0\n",
       "411745    411745    6842         8  2572043.0\n",
       "411746    411746    7026         9  2572048.0\n",
       "411747    411747    6842         5  2572054.0\n",
       "411748    411748      70        23  2572086.0\n",
       "\n",
       "[411749 rows x 4 columns]"
      ]
     },
     "execution_count": 3,
     "metadata": {},
     "output_type": "execute_result"
    }
   ],
   "source": [
    "df"
   ]
  },
  {
   "cell_type": "markdown",
   "id": "730f6b84-1253-4167-b985-6464a75bdf3b",
   "metadata": {},
   "source": [
    "## Vértices\n",
    "\n",
    "Os vértices (ou nós), nesse caso, são os usuários + target, que podem ser representados pelos USERID's e TARGETID's.\n",
    "\n",
    "Podemos definir um vértice de um grafo como sendo um nó ou unidade fundamental que compõe o grafo ou rede em questão.\n",
    "\n",
    "\n",
    "## Arestas\n",
    "\n",
    "As arestas, nesse caso, são as ações de cada user, conectando um USERID a um TARGETID.\n",
    "\n",
    "Uma aresta é a união que conecta dois vértices que pertencem ao grafo em questão. "
   ]
  },
  {
   "cell_type": "markdown",
   "id": "fa96a574-b1b5-4a31-8df2-9c97ce728cac",
   "metadata": {},
   "source": [
    "| Exemplo | Conceito&nbsp;dos&nbsp;vértices | Conceito&nbsp;das&nbsp;arestas | Operacionalização&nbsp;dos&nbsp;vértices | Operacionalização&nbsp;das&nbsp;arestas |\n",
    "|:--------|:----------------------|:---------------------|:-------------------------------|:------------------------------|\n",
    "| 1       | Usuário ou Recurso | Uma aresta entre A e B indica que um usuário A utilizou um recurso B. | Cada vértice corresponde a uma ação de um usuário que utilizou um recurso na plataforma MOOC.  Todas os usuários foram considerados, independente de ter deixado de usuar a ferramenta ou não. | Para cada usuário, contou-se suas atividades. |"
   ]
  },
  {
   "cell_type": "code",
   "execution_count": 9,
   "id": "fbebdbce-2ef7-45db-bca1-6b626f851c9e",
   "metadata": {
    "execution": {
     "iopub.execute_input": "2023-08-27T20:54:27.349918Z",
     "iopub.status.busy": "2023-08-27T20:54:27.345082Z",
     "iopub.status.idle": "2023-08-27T20:54:27.466101Z",
     "shell.execute_reply": "2023-08-27T20:54:27.456014Z",
     "shell.execute_reply.started": "2023-08-27T20:54:27.349658Z"
    }
   },
   "outputs": [
    {
     "name": "stdout",
     "output_type": "stream",
     "text": [
      "Temos 7144 vértices nessa rede\n"
     ]
    }
   ],
   "source": [
    "print(f'Temos {len(df.USERID.unique()) + len(df.TARGETID.unique())} vértices nessa rede')"
   ]
  },
  {
   "cell_type": "code",
   "execution_count": 10,
   "id": "a398a76d-b201-4e7f-a23e-64bda18399d5",
   "metadata": {
    "execution": {
     "iopub.execute_input": "2023-08-27T20:54:27.969745Z",
     "iopub.status.busy": "2023-08-27T20:54:27.964740Z",
     "iopub.status.idle": "2023-08-27T20:54:28.046696Z",
     "shell.execute_reply": "2023-08-27T20:54:28.042105Z",
     "shell.execute_reply.started": "2023-08-27T20:54:27.969578Z"
    }
   },
   "outputs": [
    {
     "name": "stdout",
     "output_type": "stream",
     "text": [
      "Temos 411749 arestas nessa rede\n"
     ]
    }
   ],
   "source": [
    "print(f'Temos {len(df.ACTIONID.unique())} arestas nessa rede')"
   ]
  },
  {
   "cell_type": "code",
   "execution_count": 6,
   "id": "19df9b2f-c695-41ba-bd2a-d52965e233a9",
   "metadata": {
    "execution": {
     "iopub.execute_input": "2023-08-27T20:53:38.917972Z",
     "iopub.status.busy": "2023-08-27T20:53:38.914361Z",
     "iopub.status.idle": "2023-08-27T20:53:38.950620Z",
     "shell.execute_reply": "2023-08-27T20:53:38.944491Z",
     "shell.execute_reply.started": "2023-08-27T20:53:38.917839Z"
    }
   },
   "outputs": [],
   "source": [
    "g = gte.Graph(directed=False) # igual a gte.Graph(), pois directed é falso por padrão"
   ]
  },
  {
   "cell_type": "code",
   "execution_count": 12,
   "id": "e3baf73c-ef07-4531-a1fd-121a0de5afb9",
   "metadata": {
    "execution": {
     "iopub.execute_input": "2023-08-27T20:54:48.413268Z",
     "iopub.status.busy": "2023-08-27T20:54:48.408554Z",
     "iopub.status.idle": "2023-08-27T20:54:48.491910Z",
     "shell.execute_reply": "2023-08-27T20:54:48.488642Z",
     "shell.execute_reply.started": "2023-08-27T20:54:48.413096Z"
    }
   },
   "outputs": [],
   "source": [
    "users_id = df.USERID.unique()\n",
    "targets_id = df.TARGETID.unique() + users_id.max() + 1"
   ]
  },
  {
   "cell_type": "code",
   "execution_count": 13,
   "id": "dca7b58e-6349-4257-8552-b3d2ae985112",
   "metadata": {
    "execution": {
     "iopub.execute_input": "2023-08-27T20:54:49.176544Z",
     "iopub.status.busy": "2023-08-27T20:54:49.172268Z",
     "iopub.status.idle": "2023-08-27T20:54:49.207074Z",
     "shell.execute_reply": "2023-08-27T20:54:49.203139Z",
     "shell.execute_reply.started": "2023-08-27T20:54:49.176192Z"
    }
   },
   "outputs": [
    {
     "data": {
      "text/plain": [
       "7046"
      ]
     },
     "execution_count": 13,
     "metadata": {},
     "output_type": "execute_result"
    }
   ],
   "source": [
    "users_id.max()"
   ]
  },
  {
   "cell_type": "code",
   "execution_count": 14,
   "id": "86676107-0ab1-47c0-940a-931e96ef2fc9",
   "metadata": {
    "execution": {
     "iopub.execute_input": "2023-08-27T20:54:58.252508Z",
     "iopub.status.busy": "2023-08-27T20:54:58.248016Z",
     "iopub.status.idle": "2023-08-27T20:54:58.991626Z",
     "shell.execute_reply": "2023-08-27T20:54:58.988293Z",
     "shell.execute_reply.started": "2023-08-27T20:54:58.252286Z"
    }
   },
   "outputs": [],
   "source": [
    "# Add all users\n",
    "for u in users_id:\n",
    "    g.add_vertex_by_id(str(u))\n",
    "    \n",
    "# Add all users\n",
    "for t in targets_id:\n",
    "    g.add_vertex_by_id(str(t))"
   ]
  },
  {
   "cell_type": "code",
   "execution_count": 15,
   "id": "e9d3d676-aa88-42c7-be40-9768bf85bf3d",
   "metadata": {
    "execution": {
     "iopub.execute_input": "2023-08-27T20:55:02.423657Z",
     "iopub.status.busy": "2023-08-27T20:55:02.420830Z",
     "iopub.status.idle": "2023-08-27T20:55:02.490914Z",
     "shell.execute_reply": "2023-08-27T20:55:02.487432Z",
     "shell.execute_reply.started": "2023-08-27T20:55:02.423507Z"
    }
   },
   "outputs": [],
   "source": [
    "df['TARGETID'] = (df['TARGETID'] + users_id.max())"
   ]
  },
  {
   "cell_type": "code",
   "execution_count": 16,
   "id": "aa82ebc5-68c9-4214-89dc-41ea8a65f7ac",
   "metadata": {
    "execution": {
     "iopub.execute_input": "2023-08-27T20:55:02.961919Z",
     "iopub.status.busy": "2023-08-27T20:55:02.956983Z",
     "iopub.status.idle": "2023-08-27T20:55:03.037995Z",
     "shell.execute_reply": "2023-08-27T20:55:03.032612Z",
     "shell.execute_reply.started": "2023-08-27T20:55:02.961558Z"
    }
   },
   "outputs": [
    {
     "data": {
      "text/plain": [
       "array([[   0, 7046],\n",
       "       [   0, 7047],\n",
       "       [   0, 7048],\n",
       "       ...,\n",
       "       [7026, 7055],\n",
       "       [6842, 7051],\n",
       "       [  70, 7069]])"
      ]
     },
     "execution_count": 16,
     "metadata": {},
     "output_type": "execute_result"
    }
   ],
   "source": [
    "df[['USERID', 'TARGETID']].values"
   ]
  },
  {
   "cell_type": "code",
   "execution_count": 17,
   "id": "3f78694e-5556-41a3-80ab-54ba9efcecf3",
   "metadata": {
    "execution": {
     "iopub.execute_input": "2023-08-27T20:55:04.411561Z",
     "iopub.status.busy": "2023-08-27T20:55:04.408106Z",
     "iopub.status.idle": "2023-08-27T20:55:04.443565Z",
     "shell.execute_reply": "2023-08-27T20:55:04.439304Z",
     "shell.execute_reply.started": "2023-08-27T20:55:04.411438Z"
    }
   },
   "outputs": [],
   "source": [
    "edges = df[['USERID', 'TARGETID']].values"
   ]
  },
  {
   "cell_type": "code",
   "execution_count": 18,
   "id": "9e63844a-4377-44ba-b33a-e3245d2d4633",
   "metadata": {
    "execution": {
     "iopub.execute_input": "2023-08-27T20:55:04.910397Z",
     "iopub.status.busy": "2023-08-27T20:55:04.904996Z",
     "iopub.status.idle": "2023-08-27T20:55:50.093476Z",
     "shell.execute_reply": "2023-08-27T20:55:50.080223Z",
     "shell.execute_reply.started": "2023-08-27T20:55:04.910204Z"
    }
   },
   "outputs": [],
   "source": [
    "for u, t in edges:\n",
    "    g.add_edge_by_ids(str(u), str(t)) "
   ]
  },
  {
   "cell_type": "markdown",
   "id": "34cc692d-fa6c-4c07-8871-dfff9c8166c7",
   "metadata": {},
   "source": [
    "## Visualizing"
   ]
  },
  {
   "cell_type": "code",
   "execution_count": 19,
   "id": "89d170f8-af75-4c6b-b60a-db04a05353ac",
   "metadata": {
    "execution": {
     "iopub.execute_input": "2023-08-27T20:57:03.676038Z",
     "iopub.status.busy": "2023-08-27T20:57:03.672156Z",
     "iopub.status.idle": "2023-08-27T21:01:46.885926Z",
     "shell.execute_reply": "2023-08-27T21:01:46.879329Z",
     "shell.execute_reply.started": "2023-08-27T20:57:03.675904Z"
    }
   },
   "outputs": [],
   "source": [
    "layout = draw.sfdp_layout(g)"
   ]
  },
  {
   "cell_type": "code",
   "execution_count": 20,
   "id": "6d82d08d-ef5d-4a69-8d57-dbf49a90e3d5",
   "metadata": {
    "execution": {
     "iopub.execute_input": "2023-08-27T21:04:17.659403Z",
     "iopub.status.busy": "2023-08-27T21:04:17.652635Z",
     "iopub.status.idle": "2023-08-27T21:04:18.797980Z",
     "shell.execute_reply": "2023-08-27T21:04:18.795189Z",
     "shell.execute_reply.started": "2023-08-27T21:04:17.659136Z"
    }
   },
   "outputs": [],
   "source": [
    "gte.move(g, layout)"
   ]
  },
  {
   "cell_type": "code",
   "execution_count": 21,
   "id": "6a495123-9632-4f0c-b6ac-d803ed2d9081",
   "metadata": {
    "execution": {
     "iopub.execute_input": "2023-08-27T21:04:20.782642Z",
     "iopub.status.busy": "2023-08-27T21:04:20.778572Z",
     "iopub.status.idle": "2023-08-27T21:06:33.532804Z",
     "shell.execute_reply": "2023-08-27T21:06:33.528180Z",
     "shell.execute_reply.started": "2023-08-27T21:04:20.782306Z"
    }
   },
   "outputs": [],
   "source": [
    "gte.save(g, 'mooc-reposicionado.net.gz')"
   ]
  },
  {
   "cell_type": "code",
   "execution_count": 23,
   "id": "d0979af5-d954-4dcc-895c-2e590b6199a9",
   "metadata": {
    "execution": {
     "iopub.execute_input": "2023-08-27T21:13:09.087488Z",
     "iopub.status.busy": "2023-08-27T21:13:09.083030Z",
     "iopub.status.idle": "2023-08-27T21:13:09.130158Z",
     "shell.execute_reply": "2023-08-27T21:13:09.126144Z",
     "shell.execute_reply.started": "2023-08-27T21:13:09.087303Z"
    }
   },
   "outputs": [
    {
     "data": {
      "text/html": [
       "\n",
       "        <div id=\"78HscTemF8F3vppeGBeRjo\"></div>\n",
       "        <script>netpixi.render('78HscTemF8F3vppeGBeRjo', '/static/__shared__/mooc-reposicionado.net.gz', 1.7777777777777777, true, true, false, true);</script>\n",
       "    "
      ],
      "text/plain": [
       "<IPython.core.display.HTML object>"
      ]
     },
     "metadata": {},
     "output_type": "display_data"
    }
   ],
   "source": [
    "r = netpixi.render('mooc-reposicionado.net.gz',infinite=True)"
   ]
  },
  {
   "cell_type": "code",
   "execution_count": 24,
   "id": "f3a169a4-d9e3-4a3c-a0a2-c4ef76f18529",
   "metadata": {
    "execution": {
     "iopub.execute_input": "2023-08-27T21:13:23.778064Z",
     "iopub.status.busy": "2023-08-27T21:13:23.770876Z",
     "iopub.status.idle": "2023-08-27T21:13:23.833234Z",
     "shell.execute_reply": "2023-08-27T21:13:23.828019Z",
     "shell.execute_reply.started": "2023-08-27T21:13:23.777789Z"
    }
   },
   "outputs": [
    {
     "data": {
      "text/html": [
       "\n",
       "        <div id=\"QatdT2RNQKrtUG8zBMWhM3\"></div>\n",
       "        <script>netpixi.call('QatdT2RNQKrtUG8zBMWhM3', '78HscTemF8F3vppeGBeRjo', 'changeGraph', 'eyJ0eXBlIjogInNldHRpbmdzIiwgInByb3BzIjogeyJ2ZXJ0ZXgiOiB7InNpemUiOiA0LCAiYndpZHRoIjogMX19fQo=');</script>\n",
       "    "
      ],
      "text/plain": [
       "<IPython.core.display.HTML object>"
      ]
     },
     "metadata": {},
     "output_type": "display_data"
    }
   ],
   "source": [
    "r.vertex_default(size=4, bwidth=1)"
   ]
  },
  {
   "cell_type": "code",
   "execution_count": 25,
   "id": "83712f17-e32b-41fe-a60b-0203c2c2ae92",
   "metadata": {
    "execution": {
     "iopub.execute_input": "2023-08-27T21:13:27.137104Z",
     "iopub.status.busy": "2023-08-27T21:13:27.132377Z",
     "iopub.status.idle": "2023-08-27T21:13:27.168615Z",
     "shell.execute_reply": "2023-08-27T21:13:27.164670Z",
     "shell.execute_reply.started": "2023-08-27T21:13:27.136796Z"
    }
   },
   "outputs": [
    {
     "data": {
      "text/html": [
       "\n",
       "        <div id=\"8trX68wuA8ZeLEYxeCUL45\"></div>\n",
       "        <script>netpixi.call('8trX68wuA8ZeLEYxeCUL45', '78HscTemF8F3vppeGBeRjo', 'changeGraph', 'eyJ0eXBlIjogInNldHRpbmdzIiwgInByb3BzIjogeyJlZGdlIjogeyJ3aWR0aCI6IDF9fX0K');</script>\n",
       "    "
      ],
      "text/plain": [
       "<IPython.core.display.HTML object>"
      ]
     },
     "metadata": {},
     "output_type": "display_data"
    }
   ],
   "source": [
    "r.edge_default(width=1)"
   ]
  },
  {
   "cell_type": "code",
   "execution_count": null,
   "id": "4b0a67da-9485-44f1-b6db-eaa4fde9fde9",
   "metadata": {},
   "outputs": [],
   "source": []
  }
 ],
 "metadata": {
  "kernelspec": {
   "display_name": "Python 3 (ipykernel)",
   "language": "python",
   "name": "python3"
  },
  "language_info": {
   "codemirror_mode": {
    "name": "ipython",
    "version": 3
   },
   "file_extension": ".py",
   "mimetype": "text/x-python",
   "name": "python",
   "nbconvert_exporter": "python",
   "pygments_lexer": "ipython3",
   "version": "3.11.4"
  }
 },
 "nbformat": 4,
 "nbformat_minor": 5
}
