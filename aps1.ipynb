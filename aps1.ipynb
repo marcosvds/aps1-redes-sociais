{
 "cells": [
  {
   "cell_type": "markdown",
   "id": "bfa5aa97-c10e-46d7-832f-9f44c311a1d4",
   "metadata": {
    "execution": {
     "iopub.execute_input": "2023-08-27T20:43:03.557050Z",
     "iopub.status.busy": "2023-08-27T20:43:03.549426Z",
     "iopub.status.idle": "2023-08-27T20:43:03.612417Z",
     "shell.execute_reply": "2023-08-27T20:43:03.606436Z",
     "shell.execute_reply.started": "2023-08-27T20:43:03.556679Z"
    }
   },
   "source": [
    "# Atividade Prática Supervisionada (APS1)\n",
    "\n",
    "João Valentim, Luiz Felipe e Marcos Vinícius"
   ]
  },
  {
   "cell_type": "markdown",
   "id": "f1a33360-723d-421e-86d5-c6fa44406292",
   "metadata": {
    "execution": {
     "iopub.execute_input": "2023-08-27T20:45:03.364104Z",
     "iopub.status.busy": "2023-08-27T20:45:03.358938Z",
     "iopub.status.idle": "2023-08-27T20:45:03.418785Z",
     "shell.execute_reply": "2023-08-27T20:45:03.404523Z",
     "shell.execute_reply.started": "2023-08-27T20:45:03.363883Z"
    }
   },
   "source": [
    "## Dataset escolhido\n",
    "- [Sobre o material](https://snap.stanford.edu/data/loc-Brightkite.html)\n",
    "- [⬇⬇ link para download do dataset ⬇⬇](https://snap.stanford.edu/data/act-mooc.tar.gz)\n",
    "- [O que é brightkite](https://brightkite.com/)"
   ]
  },
  {
   "cell_type": "markdown",
   "id": "3d118313-92be-48ff-9a6a-0e3f2345e547",
   "metadata": {},
   "source": [
    "## Importações e leitura do dataset"
   ]
  },
  {
   "cell_type": "code",
   "execution_count": 1,
   "id": "2c03884d-d187-4263-8630-72164dd15789",
   "metadata": {
    "execution": {
     "iopub.execute_input": "2023-08-28T21:59:00.352375Z",
     "iopub.status.busy": "2023-08-28T21:59:00.352145Z",
     "iopub.status.idle": "2023-08-28T21:59:02.353993Z",
     "shell.execute_reply": "2023-08-28T21:59:02.353161Z",
     "shell.execute_reply.started": "2023-08-28T21:59:00.352360Z"
    },
    "tags": []
   },
   "outputs": [
    {
     "data": {
      "text/html": [
       "\n",
       "    <script src=\"/static/.hidden/netpixi.min.js\"></script>\n"
      ],
      "text/plain": [
       "<IPython.core.display.HTML object>"
      ]
     },
     "metadata": {},
     "output_type": "display_data"
    }
   ],
   "source": [
    "import pandas as pd\n",
    "import numpy as np\n",
    "import graph_tool_extras as gte\n",
    "\n",
    "import netpixi\n",
    "from graph_tool import draw"
   ]
  },
  {
   "cell_type": "code",
   "execution_count": 67,
   "id": "6dc69aef-4487-4307-9188-04eb9d524059",
   "metadata": {
    "execution": {
     "iopub.execute_input": "2023-08-28T22:23:28.673278Z",
     "iopub.status.busy": "2023-08-28T22:23:28.673017Z",
     "iopub.status.idle": "2023-08-28T22:23:28.676479Z",
     "shell.execute_reply": "2023-08-28T22:23:28.675748Z",
     "shell.execute_reply.started": "2023-08-28T22:23:28.673261Z"
    }
   },
   "outputs": [],
   "source": [
    "PATH = './Brightkite_edges.txt'"
   ]
  },
  {
   "cell_type": "code",
   "execution_count": 83,
   "id": "41a93946-5fa7-4eef-b22b-d3cc7cf6a6ad",
   "metadata": {
    "execution": {
     "iopub.execute_input": "2023-08-28T22:28:17.789998Z",
     "iopub.status.busy": "2023-08-28T22:28:17.789520Z",
     "iopub.status.idle": "2023-08-28T22:28:17.794049Z",
     "shell.execute_reply": "2023-08-28T22:28:17.793289Z",
     "shell.execute_reply.started": "2023-08-28T22:28:17.789974Z"
    }
   },
   "outputs": [],
   "source": [
    "def read_ds(path, sep=','):\n",
    "    with open(path) as file:\n",
    "        lines = file.readlines()\n",
    "    output = []\n",
    "    for line in lines:\n",
    "        nodes = line[:-1].split(sep)\n",
    "        output.append(nodes)\n",
    "    return np.array(output)"
   ]
  },
  {
   "cell_type": "code",
   "execution_count": 86,
   "id": "88979ba8-0bd4-4e64-b5cf-82c5f0fa2d31",
   "metadata": {
    "execution": {
     "iopub.execute_input": "2023-08-28T22:29:22.181745Z",
     "iopub.status.busy": "2023-08-28T22:29:22.181098Z",
     "iopub.status.idle": "2023-08-28T22:29:23.740302Z",
     "shell.execute_reply": "2023-08-28T22:29:23.739593Z",
     "shell.execute_reply.started": "2023-08-28T22:29:22.181719Z"
    },
    "scrolled": true
   },
   "outputs": [],
   "source": [
    "nodes = read_ds(PATH, sep='\\t')\n",
    "nodes = np.array([sorted([int(x[0]), int(x[1])]) for x in nodes])"
   ]
  },
  {
   "cell_type": "code",
   "execution_count": 88,
   "id": "bf3c24a8-e30e-4db7-8285-318f6f96b65a",
   "metadata": {
    "execution": {
     "iopub.execute_input": "2023-08-28T22:29:45.093356Z",
     "iopub.status.busy": "2023-08-28T22:29:45.093064Z",
     "iopub.status.idle": "2023-08-28T22:29:45.272383Z",
     "shell.execute_reply": "2023-08-28T22:29:45.271760Z",
     "shell.execute_reply.started": "2023-08-28T22:29:45.093338Z"
    }
   },
   "outputs": [],
   "source": [
    "edges = {(x[0], x[1]) for x in nodes}"
   ]
  },
  {
   "cell_type": "markdown",
   "id": "730f6b84-1253-4167-b985-6464a75bdf3b",
   "metadata": {},
   "source": [
    "## Vértices\n",
    "\n",
    "Os vértices (ou nós), nesse caso, são os usuários + target, que podem ser representados pelos USERID's e TARGETID's.\n",
    "\n",
    "Podemos definir um vértice de um grafo como sendo um nó ou unidade fundamental que compõe o grafo ou rede em questão.\n",
    "\n",
    "\n",
    "## Arestas\n",
    "\n",
    "As arestas, nesse caso, são as ações de cada user, conectando um USERID a um TARGETID.\n",
    "\n",
    "Uma aresta é a união que conecta dois vértices que pertencem ao grafo em questão. "
   ]
  },
  {
   "cell_type": "markdown",
   "id": "fa96a574-b1b5-4a31-8df2-9c97ce728cac",
   "metadata": {},
   "source": [
    "| Exemplo | Conceito&nbsp;dos&nbsp;vértices | Conceito&nbsp;das&nbsp;arestas | Operacionalização&nbsp;dos&nbsp;vértices | Operacionalização&nbsp;das&nbsp;arestas |\n",
    "|:--------|:----------------------|:---------------------|:-------------------------------|:------------------------------|\n",
    "| 1       | Usuário ou Recurso | Uma aresta entre A e B indica que um usuário A utilizou um recurso B. | Cada vértice corresponde a uma ação de um usuário que utilizou um recurso na plataforma MOOC.  Todas os usuários foram considerados, independente de ter deixado de usuar a ferramenta ou não. | Para cada usuário, contou-se suas atividades. |"
   ]
  },
  {
   "cell_type": "code",
   "execution_count": 89,
   "id": "fbebdbce-2ef7-45db-bca1-6b626f851c9e",
   "metadata": {
    "execution": {
     "iopub.execute_input": "2023-08-28T22:29:48.075069Z",
     "iopub.status.busy": "2023-08-28T22:29:48.074798Z",
     "iopub.status.idle": "2023-08-28T22:29:48.087552Z",
     "shell.execute_reply": "2023-08-28T22:29:48.086884Z",
     "shell.execute_reply.started": "2023-08-28T22:29:48.075056Z"
    }
   },
   "outputs": [
    {
     "name": "stdout",
     "output_type": "stream",
     "text": [
      "Temos 58228 vértices nessa rede\n"
     ]
    }
   ],
   "source": [
    "print(f'Temos {len(df[0].unique())} vértices nessa rede')"
   ]
  },
  {
   "cell_type": "code",
   "execution_count": 90,
   "id": "a398a76d-b201-4e7f-a23e-64bda18399d5",
   "metadata": {
    "execution": {
     "iopub.execute_input": "2023-08-28T22:29:49.020918Z",
     "iopub.status.busy": "2023-08-28T22:29:49.020602Z",
     "iopub.status.idle": "2023-08-28T22:29:49.025381Z",
     "shell.execute_reply": "2023-08-28T22:29:49.024438Z",
     "shell.execute_reply.started": "2023-08-28T22:29:49.020898Z"
    }
   },
   "outputs": [
    {
     "name": "stdout",
     "output_type": "stream",
     "text": [
      "Temos 214078 arestas nessa rede\n"
     ]
    }
   ],
   "source": [
    "print(f'Temos {len(edges)} arestas nessa rede')"
   ]
  },
  {
   "cell_type": "code",
   "execution_count": 91,
   "id": "19df9b2f-c695-41ba-bd2a-d52965e233a9",
   "metadata": {
    "execution": {
     "iopub.execute_input": "2023-08-28T22:29:50.668740Z",
     "iopub.status.busy": "2023-08-28T22:29:50.668493Z",
     "iopub.status.idle": "2023-08-28T22:29:50.702218Z",
     "shell.execute_reply": "2023-08-28T22:29:50.701576Z",
     "shell.execute_reply.started": "2023-08-28T22:29:50.668724Z"
    }
   },
   "outputs": [],
   "source": [
    "g = gte.Graph(directed=False) # igual a gte.Graph(), pois directed é falso por padrão"
   ]
  },
  {
   "cell_type": "code",
   "execution_count": 92,
   "id": "e3baf73c-ef07-4531-a1fd-121a0de5afb9",
   "metadata": {
    "execution": {
     "iopub.execute_input": "2023-08-28T22:29:51.653161Z",
     "iopub.status.busy": "2023-08-28T22:29:51.652868Z",
     "iopub.status.idle": "2023-08-28T22:29:51.660361Z",
     "shell.execute_reply": "2023-08-28T22:29:51.659650Z",
     "shell.execute_reply.started": "2023-08-28T22:29:51.653144Z"
    }
   },
   "outputs": [],
   "source": [
    "nodes = df[0].unique()"
   ]
  },
  {
   "cell_type": "code",
   "execution_count": 93,
   "id": "86676107-0ab1-47c0-940a-931e96ef2fc9",
   "metadata": {
    "execution": {
     "iopub.execute_input": "2023-08-28T22:29:52.588869Z",
     "iopub.status.busy": "2023-08-28T22:29:52.587799Z",
     "iopub.status.idle": "2023-08-28T22:29:53.082228Z",
     "shell.execute_reply": "2023-08-28T22:29:53.081400Z",
     "shell.execute_reply.started": "2023-08-28T22:29:52.588845Z"
    }
   },
   "outputs": [],
   "source": [
    "# Add all users\n",
    "for n in nodes:\n",
    "    g.add_vertex_by_id(str(n))"
   ]
  },
  {
   "cell_type": "code",
   "execution_count": 94,
   "id": "9e63844a-4377-44ba-b33a-e3245d2d4633",
   "metadata": {
    "execution": {
     "iopub.execute_input": "2023-08-28T22:29:53.847559Z",
     "iopub.status.busy": "2023-08-28T22:29:53.847224Z",
     "iopub.status.idle": "2023-08-28T22:29:56.082613Z",
     "shell.execute_reply": "2023-08-28T22:29:56.081689Z",
     "shell.execute_reply.started": "2023-08-28T22:29:53.847532Z"
    }
   },
   "outputs": [],
   "source": [
    "for n1, n2 in edges:\n",
    "    g.add_edge_by_ids(str(n1), str(n2)) "
   ]
  },
  {
   "cell_type": "markdown",
   "id": "34cc692d-fa6c-4c07-8871-dfff9c8166c7",
   "metadata": {},
   "source": [
    "## Visualizing"
   ]
  },
  {
   "cell_type": "code",
   "execution_count": 95,
   "id": "89d170f8-af75-4c6b-b60a-db04a05353ac",
   "metadata": {
    "execution": {
     "iopub.execute_input": "2023-08-28T22:29:58.635532Z",
     "iopub.status.busy": "2023-08-28T22:29:58.635285Z",
     "iopub.status.idle": "2023-08-28T22:33:38.793257Z",
     "shell.execute_reply": "2023-08-28T22:33:38.792467Z",
     "shell.execute_reply.started": "2023-08-28T22:29:58.635517Z"
    }
   },
   "outputs": [],
   "source": [
    "layout = draw.sfdp_layout(g)"
   ]
  },
  {
   "cell_type": "code",
   "execution_count": 96,
   "id": "6d82d08d-ef5d-4a69-8d57-dbf49a90e3d5",
   "metadata": {
    "execution": {
     "iopub.execute_input": "2023-08-28T22:33:38.795928Z",
     "iopub.status.busy": "2023-08-28T22:33:38.795450Z",
     "iopub.status.idle": "2023-08-28T22:33:39.732998Z",
     "shell.execute_reply": "2023-08-28T22:33:39.732302Z",
     "shell.execute_reply.started": "2023-08-28T22:33:38.795909Z"
    }
   },
   "outputs": [],
   "source": [
    "gte.move(g, layout)"
   ]
  },
  {
   "cell_type": "code",
   "execution_count": 97,
   "id": "6a495123-9632-4f0c-b6ac-d803ed2d9081",
   "metadata": {
    "execution": {
     "iopub.execute_input": "2023-08-28T22:33:39.734024Z",
     "iopub.status.busy": "2023-08-28T22:33:39.733767Z",
     "iopub.status.idle": "2023-08-28T22:33:49.760590Z",
     "shell.execute_reply": "2023-08-28T22:33:49.759892Z",
     "shell.execute_reply.started": "2023-08-28T22:33:39.734010Z"
    }
   },
   "outputs": [],
   "source": [
    "gte.save(g, 'brightkite-reposicionado.net.gz')"
   ]
  },
  {
   "cell_type": "code",
   "execution_count": 98,
   "id": "d0979af5-d954-4dcc-895c-2e590b6199a9",
   "metadata": {
    "execution": {
     "iopub.execute_input": "2023-08-28T22:33:49.762015Z",
     "iopub.status.busy": "2023-08-28T22:33:49.761851Z",
     "iopub.status.idle": "2023-08-28T22:33:49.770536Z",
     "shell.execute_reply": "2023-08-28T22:33:49.768185Z",
     "shell.execute_reply.started": "2023-08-28T22:33:49.762001Z"
    }
   },
   "outputs": [
    {
     "data": {
      "text/html": [
       "\n",
       "        <div id=\"A25s2SBhv3uX4y4Xr8cb2Y\"></div>\n",
       "        <script>netpixi.render('A25s2SBhv3uX4y4Xr8cb2Y', '/static/__shared__/brightkite-reposicionado.net.gz', 1.7777777777777777, true, true, false, true);</script>\n",
       "    "
      ],
      "text/plain": [
       "<IPython.core.display.HTML object>"
      ]
     },
     "metadata": {},
     "output_type": "display_data"
    }
   ],
   "source": [
    "r = netpixi.render('brightkite-reposicionado.net.gz',infinite=True)"
   ]
  },
  {
   "cell_type": "code",
   "execution_count": 99,
   "id": "f3a169a4-d9e3-4a3c-a0a2-c4ef76f18529",
   "metadata": {
    "execution": {
     "iopub.execute_input": "2023-08-28T22:33:49.772594Z",
     "iopub.status.busy": "2023-08-28T22:33:49.771645Z",
     "iopub.status.idle": "2023-08-28T22:33:49.778817Z",
     "shell.execute_reply": "2023-08-28T22:33:49.778003Z",
     "shell.execute_reply.started": "2023-08-28T22:33:49.772572Z"
    },
    "scrolled": true
   },
   "outputs": [
    {
     "data": {
      "text/html": [
       "\n",
       "        <div id=\"eWxWochjzBx6nzoFTU2XwN\"></div>\n",
       "        <script>netpixi.call('eWxWochjzBx6nzoFTU2XwN', 'A25s2SBhv3uX4y4Xr8cb2Y', 'changeGraph', 'eyJ0eXBlIjogInNldHRpbmdzIiwgInByb3BzIjogeyJ2ZXJ0ZXgiOiB7InNpemUiOiA0LCAiYndpZHRoIjogMX19fQo=');</script>\n",
       "    "
      ],
      "text/plain": [
       "<IPython.core.display.HTML object>"
      ]
     },
     "metadata": {},
     "output_type": "display_data"
    }
   ],
   "source": [
    "r.vertex_default(size=4, bwidth=1)"
   ]
  },
  {
   "cell_type": "code",
   "execution_count": 100,
   "id": "83712f17-e32b-41fe-a60b-0203c2c2ae92",
   "metadata": {
    "execution": {
     "iopub.execute_input": "2023-08-28T22:33:49.780905Z",
     "iopub.status.busy": "2023-08-28T22:33:49.780201Z",
     "iopub.status.idle": "2023-08-28T22:33:49.785836Z",
     "shell.execute_reply": "2023-08-28T22:33:49.785183Z",
     "shell.execute_reply.started": "2023-08-28T22:33:49.780886Z"
    }
   },
   "outputs": [
    {
     "data": {
      "text/html": [
       "\n",
       "        <div id=\"JLeAjyq8mSXTQK3hNsxjBQ\"></div>\n",
       "        <script>netpixi.call('JLeAjyq8mSXTQK3hNsxjBQ', 'A25s2SBhv3uX4y4Xr8cb2Y', 'changeGraph', 'eyJ0eXBlIjogInNldHRpbmdzIiwgInByb3BzIjogeyJlZGdlIjogeyJ3aWR0aCI6IDF9fX0K');</script>\n",
       "    "
      ],
      "text/plain": [
       "<IPython.core.display.HTML object>"
      ]
     },
     "metadata": {},
     "output_type": "display_data"
    }
   ],
   "source": [
    "r.edge_default(width=1)"
   ]
  },
  {
   "cell_type": "code",
   "execution_count": null,
   "id": "4b0a67da-9485-44f1-b6db-eaa4fde9fde9",
   "metadata": {},
   "outputs": [],
   "source": []
  }
 ],
 "metadata": {
  "kernelspec": {
   "display_name": "Python 3 (ipykernel)",
   "language": "python",
   "name": "python3"
  },
  "language_info": {
   "codemirror_mode": {
    "name": "ipython",
    "version": 3
   },
   "file_extension": ".py",
   "mimetype": "text/x-python",
   "name": "python",
   "nbconvert_exporter": "python",
   "pygments_lexer": "ipython3",
   "version": "3.11.4"
  }
 },
 "nbformat": 4,
 "nbformat_minor": 5
}
